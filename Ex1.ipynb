{
  "nbformat": 4,
  "nbformat_minor": 0,
  "metadata": {
    "colab": {
      "name": "Ex1.ipynb",
      "provenance": [],
      "collapsed_sections": [],
      "include_colab_link": true
    },
    "kernelspec": {
      "display_name": "Python 3",
      "language": "python",
      "name": "python3"
    },
    "language_info": {
      "codemirror_mode": {
        "name": "ipython",
        "version": 3
      },
      "file_extension": ".py",
      "mimetype": "text/x-python",
      "name": "python",
      "nbconvert_exporter": "python",
      "pygments_lexer": "ipython3",
      "version": "3.8.3"
    }
  },
  "cells": [
    {
      "cell_type": "markdown",
      "metadata": {
        "id": "view-in-github",
        "colab_type": "text"
      },
      "source": [
        "<a href=\"https://colab.research.google.com/github/wieeem/MNIST_ANN-from-scratch/blob/main/Ex1.ipynb\" target=\"_parent\"><img src=\"https://colab.research.google.com/assets/colab-badge.svg\" alt=\"Open In Colab\"/></a>"
      ]
    },
    {
      "cell_type": "markdown",
      "metadata": {
        "id": "9bf1-nxZ9GHG"
      },
      "source": [
        "## **Import Libraries**"
      ]
    },
    {
      "cell_type": "code",
      "metadata": {
        "id": "oGRpXjEXemKT"
      },
      "source": [
        "import matplotlib.pyplot as plt\n",
        "import numpy as np\n",
        "from PIL import Image\n",
        "from matplotlib import pyplot"
      ],
      "execution_count": 1,
      "outputs": []
    },
    {
      "cell_type": "markdown",
      "metadata": {
        "id": "T06iHEz79Oon"
      },
      "source": [
        "## **Mount Drive**"
      ]
    },
    {
      "cell_type": "code",
      "metadata": {
        "colab": {
          "base_uri": "https://localhost:8080/"
        },
        "id": "kXAlcy_61_K7",
        "outputId": "f84a12d3-3a22-4673-b5d0-77dd538d3a40"
      },
      "source": [
        "from google.colab import drive\n",
        "drive.mount('/content/drive')"
      ],
      "execution_count": 8,
      "outputs": [
        {
          "output_type": "stream",
          "text": [
            "Drive already mounted at /content/drive; to attempt to forcibly remount, call drive.mount(\"/content/drive\", force_remount=True).\n"
          ],
          "name": "stdout"
        }
      ]
    },
    {
      "cell_type": "code",
      "metadata": {
        "colab": {
          "base_uri": "https://localhost:8080/"
        },
        "id": "9O6R-jCl2AeQ",
        "outputId": "b946f3c6-bf11-405e-eaa8-40b10e74c853"
      },
      "source": [
        "cd /content/drive/My\\ Drive/Colab\\ notebook/TP_DL"
      ],
      "execution_count": 9,
      "outputs": [
        {
          "output_type": "stream",
          "text": [
            "/content/drive/My Drive/Colab notebook/TP_DL\n"
          ],
          "name": "stdout"
        }
      ]
    },
    {
      "cell_type": "markdown",
      "metadata": {
        "id": "bTduc198914u"
      },
      "source": [
        "## **Keras Library**"
      ]
    },
    {
      "cell_type": "markdown",
      "metadata": {
        "id": "hzU7lI-0-qYR"
      },
      "source": [
        "The Keras library includes several pretrained  neural network models on ImageNet classification dataset.\n",
        "  \n",
        "The most  popular models are AlexNet, VGG, VGG, Resnet, Inception ...\n",
        "\n",
        "ImageNet is a large database or dataset of over 14 million images organized into 21841 categories or classes.\n"
      ]
    },
    {
      "cell_type": "code",
      "metadata": {
        "id": "F8-F1i64fsnu"
      },
      "source": [
        "# load vgg model\n",
        "from keras.applications import InceptionV3\n",
        "model1 = InceptionV3(weights='imagenet')"
      ],
      "execution_count": 27,
      "outputs": []
    },
    {
      "cell_type": "code",
      "metadata": {
        "id": "62uempkEUf-0"
      },
      "source": [
        "#Prints  convolutional layer details including the layer name and the shape of the filters in each layer and the size of output feature maps.\n",
        "def layers_info(model):\n",
        "  for layer in model.layers:\n",
        "\t  # check for convolutional layer\n",
        "\t  if 'conv' not in layer.name:\n",
        "\t\t  continue\n",
        "\t  # get filter weights\n",
        "\t#  filters, biases = layer.get_weights()\n",
        "\t  print(layer.name,layer.output.shape)\n",
        "   \n",
        "   "
      ],
      "execution_count": 33,
      "outputs": []
    },
    {
      "cell_type": "code",
      "metadata": {
        "colab": {
          "base_uri": "https://localhost:8080/"
        },
        "id": "1UP-dMRRaXOD",
        "outputId": "b14ba27a-6d11-4031-a5fd-e595c45c5796"
      },
      "source": [
        "layers_info(model1)"
      ],
      "execution_count": 34,
      "outputs": [
        {
          "output_type": "stream",
          "text": [
            "conv2d_94 (None, 149, 149, 32)\n",
            "conv2d_95 (None, 147, 147, 32)\n",
            "conv2d_96 (None, 147, 147, 64)\n",
            "conv2d_97 (None, 73, 73, 80)\n",
            "conv2d_98 (None, 71, 71, 192)\n",
            "conv2d_102 (None, 35, 35, 64)\n",
            "conv2d_100 (None, 35, 35, 48)\n",
            "conv2d_103 (None, 35, 35, 96)\n",
            "conv2d_99 (None, 35, 35, 64)\n",
            "conv2d_101 (None, 35, 35, 64)\n",
            "conv2d_104 (None, 35, 35, 96)\n",
            "conv2d_105 (None, 35, 35, 32)\n",
            "conv2d_109 (None, 35, 35, 64)\n",
            "conv2d_107 (None, 35, 35, 48)\n",
            "conv2d_110 (None, 35, 35, 96)\n",
            "conv2d_106 (None, 35, 35, 64)\n",
            "conv2d_108 (None, 35, 35, 64)\n",
            "conv2d_111 (None, 35, 35, 96)\n",
            "conv2d_112 (None, 35, 35, 64)\n",
            "conv2d_116 (None, 35, 35, 64)\n",
            "conv2d_114 (None, 35, 35, 48)\n",
            "conv2d_117 (None, 35, 35, 96)\n",
            "conv2d_113 (None, 35, 35, 64)\n",
            "conv2d_115 (None, 35, 35, 64)\n",
            "conv2d_118 (None, 35, 35, 96)\n",
            "conv2d_119 (None, 35, 35, 64)\n",
            "conv2d_121 (None, 35, 35, 64)\n",
            "conv2d_122 (None, 35, 35, 96)\n",
            "conv2d_120 (None, 17, 17, 384)\n",
            "conv2d_123 (None, 17, 17, 96)\n",
            "conv2d_128 (None, 17, 17, 128)\n",
            "conv2d_129 (None, 17, 17, 128)\n",
            "conv2d_125 (None, 17, 17, 128)\n",
            "conv2d_130 (None, 17, 17, 128)\n",
            "conv2d_126 (None, 17, 17, 128)\n",
            "conv2d_131 (None, 17, 17, 128)\n",
            "conv2d_124 (None, 17, 17, 192)\n",
            "conv2d_127 (None, 17, 17, 192)\n",
            "conv2d_132 (None, 17, 17, 192)\n",
            "conv2d_133 (None, 17, 17, 192)\n",
            "conv2d_138 (None, 17, 17, 160)\n",
            "conv2d_139 (None, 17, 17, 160)\n",
            "conv2d_135 (None, 17, 17, 160)\n",
            "conv2d_140 (None, 17, 17, 160)\n",
            "conv2d_136 (None, 17, 17, 160)\n",
            "conv2d_141 (None, 17, 17, 160)\n",
            "conv2d_134 (None, 17, 17, 192)\n",
            "conv2d_137 (None, 17, 17, 192)\n",
            "conv2d_142 (None, 17, 17, 192)\n",
            "conv2d_143 (None, 17, 17, 192)\n",
            "conv2d_148 (None, 17, 17, 160)\n",
            "conv2d_149 (None, 17, 17, 160)\n",
            "conv2d_145 (None, 17, 17, 160)\n",
            "conv2d_150 (None, 17, 17, 160)\n",
            "conv2d_146 (None, 17, 17, 160)\n",
            "conv2d_151 (None, 17, 17, 160)\n",
            "conv2d_144 (None, 17, 17, 192)\n",
            "conv2d_147 (None, 17, 17, 192)\n",
            "conv2d_152 (None, 17, 17, 192)\n",
            "conv2d_153 (None, 17, 17, 192)\n",
            "conv2d_158 (None, 17, 17, 192)\n",
            "conv2d_159 (None, 17, 17, 192)\n",
            "conv2d_155 (None, 17, 17, 192)\n",
            "conv2d_160 (None, 17, 17, 192)\n",
            "conv2d_156 (None, 17, 17, 192)\n",
            "conv2d_161 (None, 17, 17, 192)\n",
            "conv2d_154 (None, 17, 17, 192)\n",
            "conv2d_157 (None, 17, 17, 192)\n",
            "conv2d_162 (None, 17, 17, 192)\n",
            "conv2d_163 (None, 17, 17, 192)\n",
            "conv2d_166 (None, 17, 17, 192)\n",
            "conv2d_167 (None, 17, 17, 192)\n",
            "conv2d_164 (None, 17, 17, 192)\n",
            "conv2d_168 (None, 17, 17, 192)\n",
            "conv2d_165 (None, 8, 8, 320)\n",
            "conv2d_169 (None, 8, 8, 192)\n",
            "conv2d_174 (None, 8, 8, 448)\n",
            "conv2d_171 (None, 8, 8, 384)\n",
            "conv2d_175 (None, 8, 8, 384)\n",
            "conv2d_172 (None, 8, 8, 384)\n",
            "conv2d_173 (None, 8, 8, 384)\n",
            "conv2d_176 (None, 8, 8, 384)\n",
            "conv2d_177 (None, 8, 8, 384)\n",
            "conv2d_170 (None, 8, 8, 320)\n",
            "conv2d_178 (None, 8, 8, 192)\n",
            "conv2d_183 (None, 8, 8, 448)\n",
            "conv2d_180 (None, 8, 8, 384)\n",
            "conv2d_184 (None, 8, 8, 384)\n",
            "conv2d_181 (None, 8, 8, 384)\n",
            "conv2d_182 (None, 8, 8, 384)\n",
            "conv2d_185 (None, 8, 8, 384)\n",
            "conv2d_186 (None, 8, 8, 384)\n",
            "conv2d_179 (None, 8, 8, 320)\n",
            "conv2d_187 (None, 8, 8, 192)\n"
          ],
          "name": "stdout"
        }
      ]
    },
    {
      "cell_type": "code",
      "metadata": {
        "colab": {
          "base_uri": "https://localhost:8080/"
        },
        "id": "1kNDaOTB2Pc0",
        "outputId": "7bd4a454-29ea-40f2-eeb8-c492c93094da"
      },
      "source": [
        "#The network has been trained on (224, 224) RGB images\n",
        "model1.input_shape"
      ],
      "execution_count": 35,
      "outputs": [
        {
          "output_type": "execute_result",
          "data": {
            "text/plain": [
              "(None, 299, 299, 3)"
            ]
          },
          "metadata": {
            "tags": []
          },
          "execution_count": 35
        }
      ]
    },
    {
      "cell_type": "code",
      "metadata": {
        "colab": {
          "base_uri": "https://localhost:8080/",
          "height": 243
        },
        "collapsed": true,
        "id": "WJFWvKjo3gz3",
        "outputId": "40c95917-6059-423c-fda6-c4338931fd74"
      },
      "source": [
        "from keras.applications.inception_v3 import preprocess_input\n",
        "img =Image.open('laptop.jpg')\n",
        "plt.imshow(img)\n",
        "img = img.resize ((299,299)) \n",
        "x = np.asanyarray(img) \n",
        "x.shape"
      ],
      "execution_count": 43,
      "outputs": [
        {
          "output_type": "execute_result",
          "data": {
            "text/plain": [
              "(299, 299, 3)"
            ]
          },
          "metadata": {
            "tags": []
          },
          "execution_count": 43
        },
        {
          "output_type": "display_data",
          "data": {
            "image/png": "[encoded data removed]",
            "text/plain": [
              "<Figure size 432x288 with 1 Axes>"
            ]
          },
          "metadata": {
            "tags": [],
            "needs_background": "light"
          }
        }
      ]
    },
    {
      "cell_type": "code",
      "metadata": {
        "colab": {
          "base_uri": "https://localhost:8080/"
        },
        "collapsed": true,
        "id": "Y-e0Hc7Z5UXp",
        "outputId": "3351371f-3be1-48a6-d6ad-0163c28e91c1"
      },
      "source": [
        "# It's very important to apply  the preprocessing functions that were used when training the model.\n",
        "from keras.applications.inception_v3 import preprocess_input\n",
        "x = np.expand_dims(x, axis=0)\n",
        "x = preprocess_input(x)\n",
        "x.shape"
      ],
      "execution_count": 44,
      "outputs": [
        {
          "output_type": "execute_result",
          "data": {
            "text/plain": [
              "(1, 299, 299, 3)"
            ]
          },
          "metadata": {
            "tags": []
          },
          "execution_count": 44
        }
      ]
    },
    {
      "cell_type": "markdown",
      "metadata": {
        "id": "0Eay_AaF_jr2"
      },
      "source": [
        " x is now compatible with the input shape of the neural network, let's make a prediction."
      ]
    },
    {
      "cell_type": "code",
      "metadata": {
        "colab": {
          "base_uri": "https://localhost:8080/"
        },
        "collapsed": true,
        "id": "oqP79OZo5a-1",
        "outputId": "d7cd0a9b-f48f-4959-830f-a65810d53e3c"
      },
      "source": [
        "preds = model1.predict(x)\n",
        "print(preds)\n",
        "preds.shape"
      ],
      "execution_count": 45,
      "outputs": [
        {
          "output_type": "stream",
          "text": [
            "[[4.16326802e-04 1.10516841e-04 1.53303903e-04 9.81046760e-05\n",
            "  2.42744602e-04 1.78970964e-04 1.47166691e-04 1.07841988e-04\n",
            "  1.81843105e-04 1.18770411e-04 1.52561406e-04 1.30407454e-04\n",
            "  1.49290194e-04 1.15832154e-04 1.87367259e-04 2.05376447e-04\n",
            "  1.73380104e-04 1.48991792e-04 1.45190090e-04 1.71050109e-04\n",
            "  6.96053903e-05 1.07750611e-03 2.15455904e-04 1.21073106e-04\n",
            "  4.74597560e-04 1.53693894e-04 1.41484430e-04 1.46813574e-04\n",
            "  2.22949311e-04 1.36569564e-04 3.67973058e-04 1.79043025e-04\n",
            "  1.16258445e-04 1.02479593e-04 1.34097791e-04 1.34036556e-04\n",
            "  7.30717002e-05 2.23823430e-04 2.29298457e-04 1.42764329e-04\n",
            "  3.86142347e-04 1.26644765e-04 1.66428392e-04 2.75123370e-04\n",
            "  1.62789511e-04 1.76594636e-04 2.80524138e-04 1.75918234e-04\n",
            "  1.29803084e-04 1.23202059e-04 1.39892771e-04 1.67061764e-04\n",
            "  7.98193287e-05 1.20626632e-04 1.69242499e-04 1.53741246e-04\n",
            "  2.20034810e-04 1.81291267e-04 2.82780151e-04 2.91375356e-04\n",
            "  1.43271973e-04 2.06656259e-04 1.28208514e-04 1.68410275e-04\n",
            "  1.33921931e-04 2.80131557e-04 1.38417076e-04 1.31044144e-04\n",
            "  1.98993512e-04 8.00198541e-05 1.89144819e-04 1.03984174e-04\n",
            "  2.10140774e-04 1.64870289e-04 1.48377105e-04 2.63460068e-04\n",
            "  1.05077546e-04 1.69191175e-04 1.02700906e-04 1.49859348e-04\n",
            "  2.16650122e-04 1.48131934e-04 7.58235867e-04 1.43138415e-04\n",
            "  1.13051938e-04 2.80364067e-04 3.48195084e-04 1.49650979e-04\n",
            "  1.64231431e-04 3.63203406e-04 2.29168058e-04 1.51757049e-04\n",
            "  2.92888115e-04 1.24731989e-04 1.18219847e-04 1.87473051e-04\n",
            "  1.83594879e-04 2.38454726e-04 1.56830487e-04 7.63187199e-05\n",
            "  1.29916400e-04 1.64001511e-04 1.95003799e-04 2.23294555e-04\n",
            "  9.99031836e-05 9.29622329e-05 1.80871619e-04 1.30602610e-04\n",
            "  3.35459423e-04 3.07621638e-04 1.77016002e-04 1.24599537e-04\n",
            "  1.37664974e-04 1.49453874e-04 1.91639760e-04 2.37062763e-04\n",
            "  1.35068491e-04 2.34904175e-04 9.85225561e-05 1.34699687e-04\n",
            "  1.96119450e-04 8.19569395e-05 9.25402273e-05 1.59594143e-04\n",
            "  2.26740987e-04 1.85903293e-04 1.19255848e-04 1.31846042e-04\n",
            "  1.15416107e-04 1.05138890e-04 1.36837727e-04 1.52689492e-04\n",
            "  1.48891937e-04 2.27559940e-04 1.16228410e-04 9.61716578e-05\n",
            "  1.24991333e-04 1.01923935e-04 9.01816093e-05 8.78935898e-05\n",
            "  6.09306699e-05 1.05623491e-04 1.03416307e-04 6.76447598e-05\n",
            "  1.11361660e-04 1.37980431e-04 1.34818314e-04 2.32493621e-04\n",
            "  4.24866186e-04 1.37306371e-04 1.43472702e-04 1.22194702e-04\n",
            "  6.52945251e-04 2.45140895e-04 1.15497925e-04 1.45337894e-04\n",
            "  2.25422002e-04 2.16882487e-04 2.59919761e-04 1.15056529e-04\n",
            "  1.99711591e-04 1.49143903e-04 1.41717639e-04 2.04630967e-04\n",
            "  2.80185544e-04 2.44282099e-04 1.81669253e-04 2.15172942e-04\n",
            "  2.20435119e-04 9.96848612e-05 1.74722125e-04 1.86641220e-04\n",
            "  1.24635553e-04 1.13103590e-04 1.01034551e-04 1.79354742e-04\n",
            "  1.07048079e-04 7.18807423e-05 2.73465965e-04 1.38389471e-04\n",
            "  1.15556315e-04 2.37620348e-04 1.09803412e-04 1.31972352e-04\n",
            "  7.10840395e-05 2.34178806e-04 1.73586755e-04 2.53509061e-04\n",
            "  2.36420878e-04 1.12787769e-04 3.85936350e-04 1.89702638e-04\n",
            "  1.02845566e-04 5.98341067e-05 2.61301524e-04 2.67446827e-04\n",
            "  2.35188083e-04 4.87170473e-04 2.78792868e-04 1.79468523e-04\n",
            "  1.27421314e-04 1.95586574e-04 2.55049701e-04 4.97003901e-04\n",
            "  1.40733377e-04 2.68491043e-04 3.36632831e-04 1.17704498e-04\n",
            "  3.23440385e-04 7.87081517e-05 1.81803916e-04 7.05501006e-05\n",
            "  7.87680765e-05 7.88254110e-05 1.78902716e-04 9.64424180e-05\n",
            "  1.42245990e-04 1.00709687e-04 1.04177721e-04 2.64128903e-04\n",
            "  4.04436607e-04 2.43982096e-04 2.98922154e-04 1.12594971e-04\n",
            "  1.05051389e-04 1.52522698e-04 1.66718935e-04 7.12473993e-05\n",
            "  3.72595474e-04 9.75257499e-05 8.38701744e-05 8.09582489e-05\n",
            "  9.96107410e-05 1.05071136e-04 1.61130039e-04 1.67064165e-04\n",
            "  2.27450262e-04 2.30790189e-04 1.22275946e-04 1.62736571e-04\n",
            "  1.18140502e-04 2.20605245e-04 1.05674480e-04 1.41839060e-04\n",
            "  7.99470872e-05 1.38410600e-04 4.01946338e-04 1.00670033e-04\n",
            "  1.57223578e-04 1.43140191e-04 1.05441635e-04 1.84676246e-04\n",
            "  3.34249897e-04 1.35215800e-04 1.75618348e-04 1.26961721e-04\n",
            "  2.03666466e-04 1.25185907e-04 1.35801471e-04 1.75405788e-04\n",
            "  8.94802433e-05 2.24839096e-04 2.58172804e-04 1.24225320e-04\n",
            "  4.83894728e-05 1.83825265e-04 1.85825484e-04 1.43735379e-04\n",
            "  1.81107738e-04 9.89943219e-05 1.96794688e-04 1.26746148e-04\n",
            "  1.61709468e-04 1.57120012e-04 1.40457574e-04 1.47287588e-04\n",
            "  5.92847427e-05 2.07190446e-04 1.27911262e-04 1.80037983e-04\n",
            "  1.82619086e-04 1.56161856e-04 1.71149484e-04 2.67953088e-04\n",
            "  1.48602543e-04 2.66086397e-04 2.13219275e-04 1.65136225e-04\n",
            "  1.04245111e-04 1.16906522e-04 2.37950080e-04 8.95904741e-05\n",
            "  1.48787178e-04 1.82715419e-04 7.05957282e-05 1.01305086e-04\n",
            "  2.24637100e-04 1.28722706e-04 1.86155579e-04 2.11507941e-04\n",
            "  2.71990575e-04 2.73339625e-04 1.55484522e-04 2.21656737e-04\n",
            "  3.39192833e-04 1.65925696e-04 2.02816547e-04 1.01238831e-04\n",
            "  1.44280595e-04 1.07774758e-04 5.00232447e-04 3.04378918e-04\n",
            "  1.82209042e-04 1.29197302e-04 1.47340688e-04 1.35155205e-04\n",
            "  1.82006886e-04 8.16142201e-05 1.94619584e-04 1.44147198e-04\n",
            "  2.18779140e-04 2.87362898e-04 1.17771422e-04 1.55210291e-04\n",
            "  1.17303207e-04 1.29507811e-04 1.75205336e-04 9.31248942e-05\n",
            "  3.24355933e-04 1.95120068e-04 1.22055862e-04 1.17281510e-04\n",
            "  1.29502616e-04 1.28741609e-04 9.58365636e-05 2.22786941e-04\n",
            "  4.93146981e-05 1.49684376e-04 1.68642669e-04 7.53173736e-05\n",
            "  1.43684534e-04 2.07060075e-04 2.02717332e-04 1.58482246e-04\n",
            "  1.40974633e-04 1.02068181e-04 8.51912555e-05 1.50766748e-04\n",
            "  9.60905163e-05 1.71684049e-04 1.51652595e-04 1.40160526e-04\n",
            "  1.38353455e-04 1.18125405e-04 3.14751844e-04 8.05377058e-05\n",
            "  1.00714875e-04 3.16711114e-04 2.11914783e-04 2.48210039e-04\n",
            "  2.95972714e-04 1.66909522e-04 1.20548197e-04 1.11194509e-04\n",
            "  1.53315748e-04 2.81357265e-04 2.14957181e-04 3.59137019e-04\n",
            "  1.40342294e-04 2.30822523e-04 2.39035217e-04 2.40466397e-04\n",
            "  7.62809505e-05 1.87100843e-04 1.21555895e-04 2.34596358e-04\n",
            "  1.38296338e-04 2.73027923e-04 3.55139666e-04 1.84195189e-04\n",
            "  3.30527982e-04 3.09168070e-04 3.26349778e-04 1.76583533e-04\n",
            "  2.44402327e-04 1.38426709e-04 1.47821615e-04 1.73827939e-04\n",
            "  1.54182315e-04 2.63722148e-04 1.13083319e-04 1.67191989e-04\n",
            "  1.64495548e-04 1.34743619e-04 7.76318338e-05 1.74672459e-04\n",
            "  2.59732828e-04 1.44294085e-04 1.40342294e-04 3.35596036e-04\n",
            "  2.86076101e-04 8.11494756e-05 1.70651241e-04 1.13661546e-04\n",
            "  4.45876096e-04 2.08982601e-04 1.12639114e-04 1.71493244e-04\n",
            "  2.19186797e-04 5.34293882e-04 1.40035059e-04 4.34909452e-05\n",
            "  1.00280711e-04 3.45719774e-04 8.96694546e-05 6.68576977e-05\n",
            "  2.50479148e-04 6.19891871e-05 2.74659105e-04 2.55034363e-04\n",
            "  7.16563809e-05 4.35191578e-05 1.82107251e-04 4.10062872e-04\n",
            "  3.09891730e-05 3.58836754e-04 2.41760426e-04 8.19411507e-05\n",
            "  9.77747695e-05 2.60702654e-04 1.55449394e-04 5.40261099e-04\n",
            "  4.51348402e-04 1.90358871e-04 1.66031110e-04 1.77428563e-04\n",
            "  1.46943014e-04 1.66260375e-04 1.19473953e-04 2.74406833e-04\n",
            "  2.32447070e-04 2.94913043e-04 1.63242526e-04 1.23200181e-04\n",
            "  1.25870312e-04 1.85482189e-04 6.16766862e-04 1.01470039e-04\n",
            "  1.68818879e-04 1.10693109e-04 1.44374193e-04 3.00512795e-04\n",
            "  1.05073239e-04 1.52152090e-04 9.30328315e-05 8.34633174e-05\n",
            "  7.86600503e-05 9.32236144e-05 2.78025778e-04 1.03560807e-04\n",
            "  9.77795280e-05 1.69357299e-04 9.07083740e-05 1.58474533e-04\n",
            "  1.68220373e-04 3.30798386e-04 3.64717649e-04 1.74794448e-04\n",
            "  2.68515490e-04 9.97695024e-05 1.08251894e-04 1.33149049e-04\n",
            "  1.36747723e-04 1.90866966e-04 1.53327594e-04 2.29943253e-04\n",
            "  1.47340819e-04 1.50609383e-04 2.23361334e-04 1.73562090e-04\n",
            "  7.00290475e-05 2.04491298e-04 2.77165789e-04 1.70992542e-04\n",
            "  3.88027780e-04 1.54849695e-04 1.12374844e-04 9.82399652e-05\n",
            "  1.50505861e-04 9.52636692e-05 7.76950110e-05 1.98571914e-04\n",
            "  1.60980286e-04 2.51753430e-04 1.18933625e-04 4.96695902e-05\n",
            "  1.36937204e-04 2.25846539e-04 1.09185028e-04 1.92909763e-04\n",
            "  1.35394643e-04 1.94529042e-04 7.95333181e-05 1.95931760e-04\n",
            "  1.20057329e-03 5.50211844e-05 9.44866333e-05 3.91746755e-04\n",
            "  2.96654599e-03 2.41737107e-05 1.50406428e-04 4.51414264e-04\n",
            "  1.14677176e-04 2.03145624e-04 1.25167760e-04 1.53730973e-04\n",
            "  1.48698236e-04 8.00701673e-05 1.68144994e-04 2.90584867e-04\n",
            "  2.02957803e-04 7.16413488e-05 1.81158888e-04 7.76932284e-05\n",
            "  1.08229084e-04 5.92976867e-05 5.48239052e-03 2.12368686e-02\n",
            "  6.58118079e-05 9.41770704e-05 3.57407756e-04 7.24499696e-05\n",
            "  9.22247273e-05 2.15975131e-04 4.60973708e-04 8.00276466e-05\n",
            "  5.02311232e-05 2.07135134e-04 1.57021597e-04 1.51325221e-04\n",
            "  2.11956823e-04 1.34913353e-04 1.28487707e-04 9.85249062e-05\n",
            "  8.43754315e-05 2.03863718e-04 1.84879958e-04 1.39055861e-04\n",
            "  4.22441401e-04 6.45896595e-04 1.74925342e-04 5.14596992e-04\n",
            "  1.51207088e-04 4.23969817e-04 1.47268482e-04 2.32954146e-04\n",
            "  1.56078633e-04 1.66463782e-04 8.36517793e-05 7.78916525e-04\n",
            "  3.06444388e-04 7.81389972e-05 1.52090433e-04 1.61286531e-04\n",
            "  1.71051244e-04 6.45428954e-05 1.40684133e-04 1.31775523e-04\n",
            "  7.52390479e-05 7.72515559e-05 1.46065868e-04 1.03432583e-04\n",
            "  3.04186804e-04 1.48471227e-04 2.31128375e-04 1.82171003e-04\n",
            "  8.47199699e-05 1.95595523e-04 1.72749133e-04 1.10468696e-04\n",
            "  9.83904392e-05 2.46291718e-04 2.18137444e-04 1.06961335e-04\n",
            "  2.44030263e-04 1.15262883e-04 8.44908136e-05 1.12820046e-04\n",
            "  3.42399522e-04 2.21879964e-04 7.65994133e-04 9.17895231e-05\n",
            "  5.96615428e-04 3.61252663e-04 7.60217590e-05 9.46745131e-05\n",
            "  3.20962834e-04 1.97594694e-04 3.90580070e-04 2.01822098e-04\n",
            "  9.31873437e-05 1.66445214e-04 1.10884561e-04 1.63030316e-04\n",
            "  1.60859345e-04 1.04176393e-03 1.41178738e-04 1.37166324e-04\n",
            "  1.36771851e-04 9.69545072e-05 3.19829385e-04 8.10539641e-05\n",
            "  2.54302344e-04 3.77254735e-04 2.24928415e-04 2.45598261e-04\n",
            "  1.77411304e-04 2.11593084e-04 6.01699976e-05 1.26612105e-03\n",
            "  5.39288446e-02 1.36871138e-04 1.41244716e-04 4.75830719e-04\n",
            "  2.49595090e-04 5.45579824e-05 3.97810974e-04 2.29379817e-04\n",
            "  2.41345057e-04 7.71336272e-05 1.29083259e-04 4.13698377e-04\n",
            "  3.62222595e-03 2.47570424e-04 8.15594467e-05 1.75605965e-04\n",
            "  4.00617049e-04 1.55406247e-04 1.74843459e-04 3.09313880e-04\n",
            "  3.31939053e-04 1.69913648e-04 1.03162660e-04 1.58374372e-04\n",
            "  1.71626263e-04 9.53732015e-05 1.50202162e-04 4.02438818e-05\n",
            "  1.18593161e-04 2.39812915e-04 1.37286470e-03 1.07054409e-04\n",
            "  1.57303832e-04 1.52427456e-04 1.09575471e-04 1.72405809e-04\n",
            "  1.42349541e-04 2.20684582e-04 1.29639404e-04 1.27413194e-04\n",
            "  1.91381143e-04 1.74079774e-04 5.62388636e-03 9.07186695e-05\n",
            "  5.94844297e-03 1.28015963e-04 9.99270051e-05 2.67284544e-04\n",
            "  1.68753366e-04 1.29963359e-04 1.36836563e-04 1.55756556e-04\n",
            "  4.38511343e-04 6.66493643e-03 4.14670882e-04 1.52966837e-04\n",
            "  7.77242894e-05 3.06758157e-04 1.63944424e-04 1.64745652e-04\n",
            "  8.18195622e-05 6.59874082e-01 2.19607769e-04 5.74683538e-04\n",
            "  1.33198337e-04 6.64008840e-05 1.63368692e-04 5.19822934e-05\n",
            "  1.10267123e-04 1.55603644e-04 1.11292858e-04 1.27856372e-04\n",
            "  1.68112281e-04 1.36502364e-04 1.03324630e-04 7.15298011e-05\n",
            "  8.72656674e-05 1.60548690e-04 8.51236910e-05 2.30149381e-04\n",
            "  2.80936569e-04 4.71609383e-04 2.24218427e-04 1.87940823e-04\n",
            "  9.07365757e-05 1.44307152e-04 1.06153762e-04 5.89760530e-05\n",
            "  7.03402562e-04 8.33743688e-05 5.91954195e-05 3.26011039e-04\n",
            "  7.51514162e-05 1.57484101e-04 1.29464461e-04 2.10749684e-04\n",
            "  1.43061858e-04 2.05079326e-04 2.48211552e-04 1.94834254e-04\n",
            "  1.82462929e-04 9.11873212e-05 2.42483482e-04 2.34614257e-04\n",
            "  1.28642569e-04 2.09296544e-04 7.88445032e-05 1.52208551e-04\n",
            "  6.54926771e-05 1.87522775e-04 1.13140268e-04 1.74409637e-04\n",
            "  2.53228063e-04 1.49841057e-04 1.00859426e-04 1.28463449e-04\n",
            "  1.32803863e-04 2.05018121e-04 1.14728027e-04 1.60176918e-04\n",
            "  1.23451056e-04 1.28274798e-04 1.78595027e-03 1.55749440e-04\n",
            "  2.06316181e-04 5.18854416e-04 1.84102988e-04 1.18643846e-04\n",
            "  8.34377643e-05 4.77493129e-04 2.54229846e-04 7.13002155e-05\n",
            "  1.55274101e-04 1.67791935e-04 4.74468572e-03 1.83774086e-04\n",
            "  7.74376604e-05 1.13309907e-04 1.85657729e-04 2.49305944e-04\n",
            "  9.05235283e-05 4.07184387e-04 8.48473937e-05 1.05421728e-04\n",
            "  1.85749828e-04 1.45026919e-04 3.97638360e-05 1.31984314e-04\n",
            "  1.71030697e-04 2.03872449e-04 1.01891674e-04 5.06652723e-05\n",
            "  9.26514040e-05 1.04042498e-04 1.01499660e-04 2.04853772e-04\n",
            "  1.59573741e-04 8.15228996e-05 8.64117610e-05 1.30901884e-04\n",
            "  1.80426796e-04 2.83696136e-04 1.30768381e-02 7.11549146e-05\n",
            "  1.75469861e-04 2.50205805e-04 1.40736869e-04 1.74255169e-04\n",
            "  9.11909738e-05 2.05519464e-04 9.45591019e-05 1.06467654e-04\n",
            "  3.40472034e-04 1.10029730e-04 9.60615653e-05 2.71413533e-04\n",
            "  1.62400000e-04 2.52749393e-04 7.24834899e-05 5.38903296e-05\n",
            "  9.85099614e-05 3.78057186e-04 1.82274918e-04 1.74356755e-04\n",
            "  2.67903379e-05 1.70908097e-04 1.05923398e-04 2.25996308e-04\n",
            "  2.16151107e-04 1.48617575e-04 1.84849836e-02 1.69141174e-04\n",
            "  3.07361828e-04 6.70958761e-05 2.82351160e-04 2.27768483e-04\n",
            "  8.56142069e-05 4.14799608e-04 1.49902946e-04 2.54581159e-04\n",
            "  1.89675877e-04 7.39275827e-04 1.72496759e-04 3.36808327e-04\n",
            "  1.58378738e-04 1.66001191e-04 2.42935421e-05 6.69611909e-05\n",
            "  1.16517069e-04 6.16526595e-05 2.27553755e-04 2.67029885e-04\n",
            "  1.02965394e-04 1.51378481e-04 3.33274773e-04 2.70846765e-04\n",
            "  5.37588494e-04 5.03000047e-04 2.81068584e-04 3.94405470e-05\n",
            "  1.64078170e-04 1.05859879e-04 1.45607322e-04 2.68966425e-04\n",
            "  2.37524058e-04 8.51956429e-05 1.11473177e-03 2.40762543e-04\n",
            "  1.32202491e-04 1.49620726e-04 1.28714106e-04 1.98684516e-03\n",
            "  1.25538238e-04 1.86545309e-04 9.77380405e-05 1.77867885e-04\n",
            "  1.78569142e-04 1.85269848e-04 2.60147819e-04 8.24879535e-05\n",
            "  2.23181094e-04 1.18603799e-04 2.00793264e-04 1.51356406e-04\n",
            "  3.04092391e-05 6.12382573e-05 1.56737922e-04 1.28472399e-04\n",
            "  2.50191253e-04 1.76031026e-04 1.17944852e-04 1.65212623e-04\n",
            "  2.67792784e-04 2.50529440e-04 2.00180089e-04 1.17829280e-04\n",
            "  2.03520467e-04 1.92769425e-04 2.43370669e-04 1.38901582e-04\n",
            "  7.10446620e-05 2.98456114e-04 8.35099781e-05 2.61407200e-04\n",
            "  1.56434486e-04 5.08963538e-04 1.19256991e-04 6.76595955e-05\n",
            "  1.05417705e-04 4.90605489e-05 9.73537462e-05 5.72680612e-04\n",
            "  1.62736891e-04 5.05429110e-04 1.44661695e-04 6.67027780e-04\n",
            "  7.40532269e-05 2.38514433e-04 2.70942721e-04 1.57376591e-04\n",
            "  9.05606503e-05 2.73594575e-04 3.11875483e-04 2.98486877e-04\n",
            "  2.27716024e-04 9.05313791e-05 1.86743258e-04 1.69669962e-04\n",
            "  4.68190847e-04 6.74683542e-05 5.16160471e-05 1.82419943e-04\n",
            "  2.36942724e-04 1.14638897e-04 1.41741577e-04 1.29425564e-04\n",
            "  6.44750101e-03 4.14207461e-04 1.33171925e-04 1.38966643e-04\n",
            "  1.78232600e-04 9.74196941e-04 1.37363080e-04 2.06457291e-04\n",
            "  1.65310965e-04 1.44736623e-04 1.26367639e-04 1.67266626e-04\n",
            "  1.76552378e-04 1.03647646e-04 3.24220950e-04 1.41510885e-04\n",
            "  1.15220464e-04 1.41079538e-04 1.21727011e-04 3.07516631e-04\n",
            "  1.36757371e-04 8.49251082e-05 1.36783070e-04 1.17726391e-04\n",
            "  9.29852031e-05 1.44843914e-04 7.43778073e-05 1.38903575e-04\n",
            "  5.08377503e-04 1.05203377e-04 5.50154946e-04 2.01584728e-04\n",
            "  1.41605240e-04 1.95481029e-04 1.40224554e-04 1.75350608e-04\n",
            "  1.06765459e-04 2.39483910e-04 1.25359729e-04 1.32466128e-04\n",
            "  1.46541090e-04 1.39101612e-04 1.46551436e-04 1.52177789e-04\n",
            "  7.61735064e-05 9.47749650e-05 1.97217611e-04 1.23310558e-04\n",
            "  1.16311006e-04 1.41002471e-04 5.03497489e-04 7.98519643e-04\n",
            "  1.30897702e-03 2.17219073e-04 5.76679246e-04 2.51289312e-04\n",
            "  8.18279950e-05 4.88344056e-04 2.53648614e-04 2.72138219e-04\n",
            "  1.67854363e-04 3.91704147e-04 1.65640013e-04 1.02778504e-04\n",
            "  1.97651418e-04 2.74273538e-04 2.72143428e-04 2.26525488e-04\n",
            "  1.24497165e-04 2.42559225e-04 7.76181332e-05 8.63057721e-05\n",
            "  7.98658511e-05 7.81452545e-05 1.56833325e-04 2.01830771e-04\n",
            "  9.87570747e-05 1.28530854e-04 1.54695008e-04 9.26536159e-05\n",
            "  2.59488937e-04 6.54500982e-05 9.01724998e-05 9.91171255e-05]]\n"
          ],
          "name": "stdout"
        },
        {
          "output_type": "execute_result",
          "data": {
            "text/plain": [
              "(1, 1000)"
            ]
          },
          "metadata": {
            "tags": []
          },
          "execution_count": 45
        }
      ]
    },
    {
      "cell_type": "markdown",
      "metadata": {
        "id": "orEL6DF9AJTh"
      },
      "source": [
        "**Decoding the Prediction Probabilities**"
      ]
    },
    {
      "cell_type": "code",
      "metadata": {
        "colab": {
          "base_uri": "https://localhost:8080/"
        },
        "collapsed": true,
        "id": "fqwianI574jD",
        "outputId": "d401b62b-b8f8-40e0-ab1e-f1c24c70bd57"
      },
      "source": [
        "from keras.applications.inception_v3 import decode_predictions\n",
        "decode_predictions(preds, top=5)"
      ],
      "execution_count": 47,
      "outputs": [
        {
          "output_type": "execute_result",
          "data": {
            "text/plain": [
              "[[('n03832673', 'notebook', 0.6598741),\n",
              "  ('n03642806', 'laptop', 0.053928845),\n",
              "  ('n03180011', 'desktop_computer', 0.021236869),\n",
              "  ('n04264628', 'space_bar', 0.018484984),\n",
              "  ('n04152593', 'screen', 0.013076838)]]"
            ]
          },
          "metadata": {
            "tags": []
          },
          "execution_count": 47
        }
      ]
    },
    {
      "cell_type": "code",
      "metadata": {
        "colab": {
          "base_uri": "https://localhost:8080/"
        },
        "collapsed": true,
        "id": "m_0Dq1P08gUI",
        "outputId": "9ada39e9-b1b6-457e-e45f-e062eb7e76e9"
      },
      "source": [
        "print('Predicted image labels:')\n",
        "class_names, confidences = [], []\n",
        "for class_id, class_name, confidence in decode_predictions(preds, top=5)[0]:\n",
        "    print(class_name, confidence)"
      ],
      "execution_count": 48,
      "outputs": [
        {
          "output_type": "stream",
          "text": [
            "Predicted image labels:\n",
            "notebook 0.6598741\n",
            "laptop 0.053928845\n",
            "desktop_computer 0.021236869\n",
            "space_bar 0.018484984\n",
            "screen 0.013076838\n"
          ],
          "name": "stdout"
        }
      ]
    },
    {
      "cell_type": "code",
      "metadata": {
        "id": "HL8NT64tXFxS"
      },
      "source": [
        "from tensorflow.keras import layers\r\n"
      ],
      "execution_count": null,
      "outputs": []
    },
    {
      "cell_type": "markdown",
      "metadata": {
        "id": "shz_KkLmOEo7"
      },
      "source": [
        "# TODO :\n",
        "1. To visualize the architecture of  the CNN model\n",
        "2. Call the defined  function: layers_info  to print a list of layer details including the layer name, the shape of the filters in the layer and \n",
        "3. To use other pretrained models:  InceptionV3 and ResNet50 and to compare the results \n",
        "4. To test other images"
      ]
    }
  ]
}